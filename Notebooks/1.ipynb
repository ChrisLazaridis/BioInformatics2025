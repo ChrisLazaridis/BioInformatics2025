{
 "cells": [
  {
   "metadata": {},
   "cell_type": "markdown",
   "source": [
    "Δίνονται τα παρακάτω patterns από το αλφάβητο A, C, G, T:\n",
    "* pattern1=ΑΤΤΑGA,\n",
    "* pattern2=ΑCGCΑTΤT\n",
    "* pattern3=ΑGGΑCTCΑΑ,\n",
    "* pattern4=ΑΤΤTCΑGT\n",
    "---\n",
    " Σχεδιάστε και υλοποιήστε μία μέθοδο σύνθεσης συμβολοσειράς, η οποία λειτουργεί ως εξής:\n",
    "- α) επιλέγει ένα έως τρία σύμβολα με τυχαίο τρόπο και τα τοποθετεί στην αρχή της συμβολοσειράς.\n",
    "- β) Επιλέγει κάθε ένα από τα παραπάνω patterns μία φορά, με τη σειρά που αναγράφονται και αντικαθιστά το πολύ δύο σύμβολα σε τυχαίες θέσεις, είτε με ένα άλλο τυχαία επιλεγμένο σύμβολο (για κάθε θέση ξεχωριστά) είτε με την κενή συμβολοσειρά (διαγραφή συμβόλου). Ότι προκύπτει συνενώνεται με την υφιστάμενη έως εκείνη τη στιγμή συμβολοσειρά.\n",
    "- γ) Προσθέτει ένα έως δύο τυχαία σύμβολα στο τέλος της συμβολοσειράς. Δημιουργήστε συνολικά 100 συμβολοσειρές με τον αλγόριθμο σύνθεσης. Διαλέξτε με τυχαίο τρόπο 10 συμβολοσειρές και τοποθετήστε τις σε ένα σύνολο datasetA, 70 σε ένα σύνολο datasetB και τις υπόλοιπες 20 σε ένα σύνολο datasetC."
   ],
   "id": "fd517dd70391f9b3"
  },
  {
   "metadata": {},
   "cell_type": "code",
   "outputs": [],
   "execution_count": 2,
   "source": [
    "import random\n",
    "from typing import List\n",
    "\n",
    "# Για αναπαραγωγισιμότητα\n",
    "random.seed(42)"
   ],
   "id": "32651e33aa61e05a"
  },
  {
   "metadata": {},
   "cell_type": "markdown",
   "source": [
    "### Βοηθητικές Συναρτήσεις\n",
    "#### - `prepend_random`: Προσθέτει στην αρχή 1–3 τυχαία σύμβολα.\n",
    "#### - `mutate_pattern`: Εφαρμόζει έως `max_mutations` (default 2) τυχαίες αλλαγές (substitution ή deletion) στο δοθέν pattern.\n",
    "#### - `append_random`: Προσθέτει στο τέλος 1–2 τυχαία σύμβολα.\n",
    "#### - `save_fasta`: Αποθηκεύει τις αλληλουχίες σε αρχείο FASTA."
   ],
   "id": "a4eee8262cdc836c"
  },
  {
   "metadata": {},
   "cell_type": "code",
   "source": [
    "def prepend_random(min_len: int = 1, max_len: int = 3) -> str:\n",
    "    \"\"\"\n",
    "    Προσθέτει στην αρχή min_len–max_len τυχαία σύμβολα.\n",
    "    Επιστρέφει την τροποποιημένη συμβολοσειρά.\n",
    "    :param min_len: Ελάχιστο μήκος της τυχαίας συμβολοσειράς\n",
    "    :param max_len: Μέγιστο μήκος της τυχαίας συμβολοσειράς\n",
    "    :return: Τυχαία συμβολοσειρά από τα σύμβολα A, C, G, T\n",
    "    \"\"\"\n",
    "    k = random.randint(min_len, max_len)\n",
    "    return ''.join(random.choices(['A', 'C', 'G', 'T'], k=k))\n",
    "\n",
    "\n",
    "def mutate_pattern(pattern: str, max_mutations: int = 2) -> str:\n",
    "    \"\"\"\n",
    "    Εφαρμόζει έως max_mutations τυχαίες μεταλλάξεις:\n",
    "    - Κάθε μετάλλαξη: 50% substitution (σε ένα τυχαίο σύμβολο), 50% deletion.\n",
    "    :param pattern: Αρχικό pattern\n",
    "    :param max_mutations: Μέγιστος αριθμός μεταλλάξεων\n",
    "    :return: Τροποποιημένο pattern\n",
    "    \"\"\"\n",
    "    pattern_list = list(pattern)\n",
    "    m = random.randint(0, max_mutations)\n",
    "    # Επιλογή θέσεων για μετάλλαξη\n",
    "    positions = random.sample(range(len(pattern_list)), m)\n",
    "    for pos in positions:\n",
    "        if random.random() < 0.5:\n",
    "            # Substitution\n",
    "            pattern_list[pos] = random.choice(['A', 'C', 'G', 'T'])\n",
    "        else:\n",
    "            # Deletion\n",
    "            pattern_list[pos] = ''\n",
    "    return ''.join(pattern_list)\n",
    "\n",
    "\n",
    "def append_random(min_len: int = 1, max_len: int = 2) -> str:\n",
    "    \"\"\"\n",
    "    Προσθέτει στο τέλος min_len–max_len τυχαία σύμβολα.\n",
    "    :param min_len: Ελάχιστο μήκος της τυχαίας συμβολοσειράς\n",
    "    :param max_len: Μέγιστο μήκος της τυχαίας συμβολοσειράς\n",
    "    :return: Τυχαία συμβολοσειρά από τα σύμβολα A, C, G, T\n",
    "    \"\"\"\n",
    "    k = random.randint(min_len, max_len)\n",
    "    return ''.join(random.choices(['A', 'C', 'G', 'T'], k=k))\n",
    "\n",
    "def save_fasta(seqs: List[str], filename: str) -> bool:\n",
    "    \"\"\"\n",
    "    Αποθηκεύει τις αλληλουχίες σε αρχείο FASTA.\n",
    "    :param seqs: Λίστα αλληλουχιών\n",
    "    :param filename: Όνομα αρχείου\n",
    "    :return: True αν η αποθήκευση ήταν επιτυχής, αλλιώς False\n",
    "    \"\"\"\n",
    "    try:\n",
    "        with open(filename, 'w') as f:\n",
    "            for i, s in enumerate(seqs, 1):\n",
    "                f.write(f\">seq{i}\\n{s}\\n\")\n",
    "        return True\n",
    "    except IOError as e:\n",
    "        print(f\"Error writing to file {filename}: {e}\")\n",
    "        return False"
   ],
   "id": "c0d6964f4edbd9ea",
   "outputs": [],
   "execution_count": null
  },
  {
   "metadata": {},
   "cell_type": "markdown",
   "source": [
    "### Συνάρτηση Σύνθεσης Αλληλουχίας\n",
    "#### Η `generate_sequence`:\n",
    "#### 1. Καλεί `prepend_random`.\n",
    "#### 2. Για κάθε από τα τέσσερα patterns καλεί `mutate_pattern` και συγχωνεύει.\n",
    "#### 3. Καλεί `append_random`.\n"
   ],
   "id": "344142fcccb7e7d4"
  },
  {
   "metadata": {
    "ExecuteTime": {
     "end_time": "2025-04-23T14:13:03.945810Z",
     "start_time": "2025-04-23T14:13:03.917520Z"
    }
   },
   "cell_type": "code",
   "source": [
    "patterns = [\"ATTAGA\", \"ACGCATTT\", \"AGGACTCAA\", \"ATTTCAGT\"]\n",
    "\n",
    "def generate_sequence() -> str:\n",
    "    \"\"\"\n",
    "    Δημιουργεί μία σύνθετη αλληλουχία σύμφωνα με:\n",
    "    - 1–3 αργικά σύμβολα στην αρχή\n",
    "    - Επικαλύψεις των patterns με έως 2 mutations το καθένα\n",
    "    - 1–2 σύμβολα στο τέλος\n",
    "    :return: Σύνθετη αλληλουχία\n",
    "    \"\"\"\n",
    "    seq = prepend_random(1, 3)\n",
    "    for pat in patterns:\n",
    "        mut = mutate_pattern(pat, max_mutations=2)\n",
    "        seq += mut\n",
    "    seq += append_random(1, 2)\n",
    "    return seq"
   ],
   "id": "bb73d24f22fd7213",
   "outputs": [],
   "execution_count": 4
  },
  {
   "metadata": {},
   "cell_type": "markdown",
   "source": [
    "### Δημιουργία και Διαχωρισμός Datasets\n",
    "#### - Παράγουμε 100 αλληλουχίες.\n",
    "#### - Ανακατεύουμε με seed=42.\n",
    "#### - Χωρίζουμε σε 10, 70, 20 στοιχεία για datasetA, datasetB, datasetC.\n",
    "#### - Εκτυπώνουμε βασικά στατιστικά."
   ],
   "id": "63acfabfc5d3113a"
  },
  {
   "metadata": {},
   "cell_type": "code",
   "outputs": [],
   "execution_count": null,
   "source": [
    "# Δημιουργία\n",
    "sequences: List[str] = [generate_sequence() for _ in range(100)]\n",
    "\n",
    "# Shuffle και Διαχωρισμός\n",
    "random.shuffle(sequences)\n",
    "datasetA = sequences[:10]\n",
    "datasetB = sequences[10:80]\n",
    "datasetC = sequences[80:]\n",
    "\n",
    "# Εκτύπωση Στατιστικών\n",
    "print(f\"Συνολικές αλληλουχίες: {len(sequences)}\")\n",
    "print(f\"datasetA: {len(datasetA)} (π.χ. {datasetA[0]})\")\n",
    "print(f\"datasetB: {len(datasetB)}\")\n",
    "print(f\"datasetC: {len(datasetC)}\")"
   ],
   "id": "da2ad279182c3c05"
  },
  {
   "metadata": {},
   "cell_type": "code",
   "outputs": [],
   "execution_count": null,
   "source": [
    "save_fasta(datasetA, 'datasetA.fasta')\n",
    "save_fasta(datasetB, 'datasetB.fasta')\n",
    "save_fasta(datasetC, 'datasetC.fasta')\n",
    "print(\"Files saved: datasetA.fasta, datasetB.fasta, datasetC.fasta\")\n"
   ],
   "id": "d07ea32139a37841"
  }
 ],
 "metadata": {},
 "nbformat": 4,
 "nbformat_minor": 5
}
